{
 "cells": [
  {
   "cell_type": "code",
   "execution_count": 2,
   "metadata": {},
   "outputs": [],
   "source": [
    "import scanpy as sc\n",
    "import pandas as pd\n",
    "import numpy as np"
   ]
  },
  {
   "cell_type": "code",
   "execution_count": 2,
   "metadata": {},
   "outputs": [],
   "source": [
    "# decompress raw data\n",
    "!gzip -d \"data/aggr/barcodes.tsv.gz\" --force\n",
    "!gzip -d \"data/aggr/features.tsv.gz\" --force\n",
    "!gzip -d \"data/aggr/matrix.mtx.gz\" --force\n",
    "!gzip -d \"data/aggr/aggr_sample_barcodes/matrix.mtx.gz\" --force"
   ]
  },
  {
   "cell_type": "code",
   "execution_count": 4,
   "metadata": {},
   "outputs": [],
   "source": [
    "adata_aggr = sc.read(\"data/aggr/matrix.mtx\")"
   ]
  },
  {
   "cell_type": "code",
   "execution_count": 5,
   "metadata": {},
   "outputs": [],
   "source": [
    "# Load two more libraries with just entinostat and vehicle treated tumors\n",
    "adata_wtile1 = sc.read(\"data/wtile1/matrix.mtx\")\n",
    "adata_wtile2 = sc.read(\"data/wtile2/matrix.mtx\")\n",
    "adata_wtilv1 = sc.read(\"data/wtilv1/matrix.mtx\")\n",
    "adata_wtilv2 = sc.read(\"data/wtilv2/matrix.mtx\")\n",
    "adata_aggr = adata_aggr.transpose()\n",
    "adata_wtile1 = adata_wtile1.transpose()\n",
    "adata_wtile2 = adata_wtile2.transpose()\n",
    "adata_wtilv1 = adata_wtilv1.transpose()\n",
    "adata_wtilv2 = adata_wtilv2.transpose()"
   ]
  },
  {
   "cell_type": "code",
   "execution_count": 9,
   "metadata": {},
   "outputs": [],
   "source": [
    "# Add metadata\n",
    "barcodes_aggr = pd.read_csv(\"data/aggr/barcodes.tsv\", sep='\\t', header=None, names=['barcode','run']) #need to have a run column for both\n",
    "geneNames_aggr = pd.read_csv(\"data/aggr/features.tsv\", sep='\\t', header=None, names=['gene_id', 'gene_short_name', 'type'])\n",
    "barcodes_wtile1 = pd.read_csv(\"data/wtile1/barcodes.tsv\", sep='\\t', header=None, names=['barcode','run']) #need to have a run column for both\n",
    "barcodes_wtile2 = pd.read_csv(\"data/wtile2/barcodes.tsv\", sep='\\t', header=None, names=['barcode','run']) #need to have a run column for both\n",
    "barcodes_wtilv1 = pd.read_csv(\"data/wtilv1/barcodes.tsv\", sep='\\t', header=None, names=['barcode','run']) #need to have a run column for both\n",
    "barcodes_wtilv2 = pd.read_csv(\"data/wtilv2/barcodes.tsv\", sep='\\t', header=None, names=['barcode','run']) #need to have a run column for both\n",
    "geneNames_pilot = pd.read_csv(\"data/wtilv1/features.tsv\", sep='\\t', header=None, names=['gene_id', 'gene_short_name', 'type'])\n",
    "\n",
    "adata_aggr.obs_names = barcodes_aggr['barcode']\n",
    "adata_aggr.var_names = geneNames_aggr['gene_id']\n",
    "adata_aggr.var['gene_short_name'] = geneNames_aggr['gene_short_name'].values\n",
    "adata_wtile1.obs_names = barcodes_wtile1['barcode']\n",
    "adata_wtile1.var_names = geneNames_pilot['gene_id']\n",
    "adata_wtile2.obs_names = barcodes_wtile2['barcode']\n",
    "adata_wtile2.var_names = geneNames_pilot['gene_id']\n",
    "adata_wtilv1.obs_names = barcodes_wtilv1['barcode']\n",
    "adata_wtilv1.var_names = geneNames_pilot['gene_id']\n",
    "adata_wtilv2.obs_names = barcodes_wtilv2['barcode']\n",
    "adata_wtilv2.var_names = geneNames_pilot['gene_id']"
   ]
  },
  {
   "cell_type": "code",
   "execution_count": 6,
   "metadata": {},
   "outputs": [
    {
     "data": {
      "text/plain": [
       "AnnData object with n_obs × n_vars = 4469 × 27998"
      ]
     },
     "execution_count": 6,
     "metadata": {},
     "output_type": "execute_result"
    }
   ],
   "source": [
    "adata_wtilv2"
   ]
  },
  {
   "cell_type": "code",
   "execution_count": 9,
   "metadata": {},
   "outputs": [
    {
     "data": {
      "text/plain": [
       "AnnData object with n_obs × n_vars = 1503 × 27998"
      ]
     },
     "execution_count": 9,
     "metadata": {},
     "output_type": "execute_result"
    }
   ],
   "source": [
    "adata_wtilv1"
   ]
  },
  {
   "cell_type": "code",
   "execution_count": 10,
   "metadata": {},
   "outputs": [
    {
     "data": {
      "text/plain": [
       "AnnData object with n_obs × n_vars = 1129 × 27998"
      ]
     },
     "execution_count": 10,
     "metadata": {},
     "output_type": "execute_result"
    }
   ],
   "source": [
    "adata_wtile1"
   ]
  },
  {
   "cell_type": "code",
   "execution_count": 11,
   "metadata": {},
   "outputs": [
    {
     "data": {
      "text/plain": [
       "AnnData object with n_obs × n_vars = 964 × 27998"
      ]
     },
     "execution_count": 11,
     "metadata": {},
     "output_type": "execute_result"
    }
   ],
   "source": [
    "adata_wtile2"
   ]
  },
  {
   "cell_type": "code",
   "execution_count": 12,
   "metadata": {},
   "outputs": [
    {
     "data": {
      "text/plain": [
       "AnnData object with n_obs × n_vars = 57029 × 27998\n",
       "    var: 'gene_short_name'"
      ]
     },
     "execution_count": 12,
     "metadata": {},
     "output_type": "execute_result"
    }
   ],
   "source": [
    "adata_aggr"
   ]
  },
  {
   "cell_type": "code",
   "execution_count": 10,
   "metadata": {},
   "outputs": [],
   "source": [
    "adata = adata_aggr.concatenate(adata_wtile1, adata_wtile2, adata_wtilv1, adata_wtilv2, join='outer')\n",
    "adata"
   ]
  },
  {
   "cell_type": "code",
   "execution_count": 11,
   "metadata": {},
   "outputs": [
    {
     "data": {
      "text/plain": [
       "AnnData object with n_obs × n_vars = 65094 × 27998\n",
       "    obs: 'batch'\n",
       "    var: 'gene_short_name-0'"
      ]
     },
     "execution_count": 11,
     "metadata": {},
     "output_type": "execute_result"
    }
   ],
   "source": []
  },
  {
   "cell_type": "code",
   "execution_count": 13,
   "metadata": {},
   "outputs": [
    {
     "name": "stderr",
     "output_type": "stream",
     "text": [
      "/opt/conda/envs/Fertig_Python_3_7/lib/python3.7/site-packages/anndata/_io/h5ad.py:60: FutureWarning: The `force_dense` argument is deprecated. Use `as_dense` instead.\n",
      "  FutureWarning,\n",
      "... storing 'gene_short_name-0' as categorical\n"
     ]
    }
   ],
   "source": [
    "#to join matrices for aggr and pilot, add anndata objects, on the union of observations\n",
    "adata = adata_aggr.concatenate(adata_wtile1, adata_wtile2, adata_wtilv1, adata_wtilv2, join='outer')\n",
    "adata\n",
    "adata.write(\"aggr&pilot_preprocessed.h5ad\", compression='gzip', compression_opts=1, force_dense=False)"
   ]
  },
  {
   "cell_type": "code",
   "execution_count": null,
   "metadata": {},
   "outputs": [],
   "source": [
    "# FILTERING STEPS\n",
    "#adata = sc.read(\"aggr&pilot_preprocessed.h5ad\") "
   ]
  },
  {
   "cell_type": "code",
   "execution_count": 14,
   "metadata": {},
   "outputs": [],
   "source": [
    "# Basic pre-processing\n",
    "sc.pp.filter_cells(adata, min_genes=200)\n",
    "sc.pp.filter_genes(adata, min_cells=3)"
   ]
  },
  {
   "cell_type": "code",
   "execution_count": 15,
   "metadata": {},
   "outputs": [],
   "source": [
    "mito_genes = adata.var['gene_short_name-0'].str.startswith('mt-')\n",
    "# for each cell compute fraction of counts in mito genes vs. all genes\n",
    "adata.obs['percent_mito'] = np.sum(adata[:, mito_genes].X, axis=1) / np.sum(adata.X, axis=1)\n",
    "# add the total counts per cell as observations-annotation to adata\n",
    "adata.obs['n_counts'] = adata.X.sum(axis=1)"
   ]
  },
  {
   "cell_type": "code",
   "execution_count": 16,
   "metadata": {},
   "outputs": [],
   "source": [
    "#filtering\n",
    "adata = adata[adata.obs['n_genes'] < 8000, :]\n",
    "adata = adata[adata.obs['percent_mito'] < 0.15, :]"
   ]
  },
  {
   "cell_type": "code",
   "execution_count": 18,
   "metadata": {},
   "outputs": [
    {
     "data": {
      "text/plain": [
       "View of AnnData object with n_obs × n_vars = 54636 × 19637\n",
       "    obs: 'batch', 'n_genes', 'percent_mito', 'n_counts'\n",
       "    var: 'gene_short_name-0', 'n_cells'"
      ]
     },
     "execution_count": 18,
     "metadata": {},
     "output_type": "execute_result"
    }
   ],
   "source": [
    "adata"
   ]
  },
  {
   "cell_type": "code",
   "execution_count": 17,
   "metadata": {},
   "outputs": [
    {
     "data": {
      "text/html": [
       "<div>\n",
       "<style scoped>\n",
       "    .dataframe tbody tr th:only-of-type {\n",
       "        vertical-align: middle;\n",
       "    }\n",
       "\n",
       "    .dataframe tbody tr th {\n",
       "        vertical-align: top;\n",
       "    }\n",
       "\n",
       "    .dataframe thead th {\n",
       "        text-align: right;\n",
       "    }\n",
       "</style>\n",
       "<table border=\"1\" class=\"dataframe\">\n",
       "  <thead>\n",
       "    <tr style=\"text-align: right;\">\n",
       "      <th></th>\n",
       "      <th>gene_short_name-0</th>\n",
       "      <th>n_cells</th>\n",
       "    </tr>\n",
       "    <tr>\n",
       "      <th>gene_id</th>\n",
       "      <th></th>\n",
       "      <th></th>\n",
       "    </tr>\n",
       "  </thead>\n",
       "  <tbody>\n",
       "    <tr>\n",
       "      <th>ENSMUSG00000025902</th>\n",
       "      <td>Sox17</td>\n",
       "      <td>1034</td>\n",
       "    </tr>\n",
       "    <tr>\n",
       "      <th>ENSMUSG00000033845</th>\n",
       "      <td>Mrpl15</td>\n",
       "      <td>20731</td>\n",
       "    </tr>\n",
       "    <tr>\n",
       "      <th>ENSMUSG00000025903</th>\n",
       "      <td>Lypla1</td>\n",
       "      <td>14424</td>\n",
       "    </tr>\n",
       "    <tr>\n",
       "      <th>ENSMUSG00000104217</th>\n",
       "      <td>Gm37988</td>\n",
       "      <td>49</td>\n",
       "    </tr>\n",
       "    <tr>\n",
       "      <th>ENSMUSG00000033813</th>\n",
       "      <td>Tcea1</td>\n",
       "      <td>22778</td>\n",
       "    </tr>\n",
       "    <tr>\n",
       "      <th>ENSMUSG00000002459</th>\n",
       "      <td>Rgs20</td>\n",
       "      <td>3649</td>\n",
       "    </tr>\n",
       "    <tr>\n",
       "      <th>ENSMUSG00000085623</th>\n",
       "      <td>Gm16041</td>\n",
       "      <td>9</td>\n",
       "    </tr>\n",
       "    <tr>\n",
       "      <th>ENSMUSG00000033793</th>\n",
       "      <td>Atp6v1h</td>\n",
       "      <td>13020</td>\n",
       "    </tr>\n",
       "    <tr>\n",
       "      <th>ENSMUSG00000025907</th>\n",
       "      <td>Rb1cc1</td>\n",
       "      <td>15915</td>\n",
       "    </tr>\n",
       "    <tr>\n",
       "      <th>ENSMUSG00000090031</th>\n",
       "      <td>4732440D04Rik</td>\n",
       "      <td>2530</td>\n",
       "    </tr>\n",
       "    <tr>\n",
       "      <th>ENSMUSG00000087247</th>\n",
       "      <td>Fam150a</td>\n",
       "      <td>3</td>\n",
       "    </tr>\n",
       "    <tr>\n",
       "      <th>ENSMUSG00000033740</th>\n",
       "      <td>St18</td>\n",
       "      <td>39</td>\n",
       "    </tr>\n",
       "    <tr>\n",
       "      <th>ENSMUSG00000051285</th>\n",
       "      <td>Pcmtd1</td>\n",
       "      <td>18645</td>\n",
       "    </tr>\n",
       "    <tr>\n",
       "      <th>ENSMUSG00000097797</th>\n",
       "      <td>Gm26901</td>\n",
       "      <td>354</td>\n",
       "    </tr>\n",
       "    <tr>\n",
       "      <th>ENSMUSG00000103067</th>\n",
       "      <td>Gm30414</td>\n",
       "      <td>3</td>\n",
       "    </tr>\n",
       "    <tr>\n",
       "      <th>ENSMUSG00000061024</th>\n",
       "      <td>Rrs1</td>\n",
       "      <td>11873</td>\n",
       "    </tr>\n",
       "    <tr>\n",
       "      <th>ENSMUSG00000025911</th>\n",
       "      <td>Adhfe1</td>\n",
       "      <td>469</td>\n",
       "    </tr>\n",
       "    <tr>\n",
       "      <th>ENSMUSG00000025912</th>\n",
       "      <td>Mybl1</td>\n",
       "      <td>1465</td>\n",
       "    </tr>\n",
       "    <tr>\n",
       "      <th>ENSMUSG00000045210</th>\n",
       "      <td>Vcpip1</td>\n",
       "      <td>9797</td>\n",
       "    </tr>\n",
       "    <tr>\n",
       "      <th>ENSMUSG00000097893</th>\n",
       "      <td>1700034P13Rik</td>\n",
       "      <td>159</td>\n",
       "    </tr>\n",
       "    <tr>\n",
       "      <th>ENSMUSG00000025915</th>\n",
       "      <td>Sgk3</td>\n",
       "      <td>7606</td>\n",
       "    </tr>\n",
       "    <tr>\n",
       "      <th>ENSMUSG00000046101</th>\n",
       "      <td>Mcmdc2</td>\n",
       "      <td>804</td>\n",
       "    </tr>\n",
       "    <tr>\n",
       "      <th>ENSMUSG00000098234</th>\n",
       "      <td>Snhg6</td>\n",
       "      <td>18118</td>\n",
       "    </tr>\n",
       "    <tr>\n",
       "      <th>ENSMUSG00000099032</th>\n",
       "      <td>Tcf24</td>\n",
       "      <td>167</td>\n",
       "    </tr>\n",
       "    <tr>\n",
       "      <th>ENSMUSG00000025916</th>\n",
       "      <td>Ppp1r42</td>\n",
       "      <td>21</td>\n",
       "    </tr>\n",
       "    <tr>\n",
       "      <th>ENSMUSG00000025917</th>\n",
       "      <td>Cops5</td>\n",
       "      <td>20533</td>\n",
       "    </tr>\n",
       "    <tr>\n",
       "      <th>ENSMUSG00000056763</th>\n",
       "      <td>Cspp1</td>\n",
       "      <td>11649</td>\n",
       "    </tr>\n",
       "    <tr>\n",
       "      <th>ENSMUSG00000067851</th>\n",
       "      <td>Arfgef1</td>\n",
       "      <td>15303</td>\n",
       "    </tr>\n",
       "    <tr>\n",
       "      <th>ENSMUSG00000042501</th>\n",
       "      <td>Cpa6</td>\n",
       "      <td>18</td>\n",
       "    </tr>\n",
       "    <tr>\n",
       "      <th>ENSMUSG00000048960</th>\n",
       "      <td>Prex2</td>\n",
       "      <td>1476</td>\n",
       "    </tr>\n",
       "    <tr>\n",
       "      <th>...</th>\n",
       "      <td>...</td>\n",
       "      <td>...</td>\n",
       "    </tr>\n",
       "    <tr>\n",
       "      <th>ENSMUSG00000063698</th>\n",
       "      <td>Sfxn4</td>\n",
       "      <td>862</td>\n",
       "    </tr>\n",
       "    <tr>\n",
       "      <th>ENSMUSG00000024997</th>\n",
       "      <td>Prdx3</td>\n",
       "      <td>20970</td>\n",
       "    </tr>\n",
       "    <tr>\n",
       "      <th>ENSMUSG00000003228</th>\n",
       "      <td>Grk5</td>\n",
       "      <td>2230</td>\n",
       "    </tr>\n",
       "    <tr>\n",
       "      <th>ENSMUSG00000074733</th>\n",
       "      <td>Zfp950</td>\n",
       "      <td>5063</td>\n",
       "    </tr>\n",
       "    <tr>\n",
       "      <th>ENSMUSG00000094649</th>\n",
       "      <td>Gm7102</td>\n",
       "      <td>19</td>\n",
       "    </tr>\n",
       "    <tr>\n",
       "      <th>ENSMUSG00000059326</th>\n",
       "      <td>Csf2ra</td>\n",
       "      <td>10789</td>\n",
       "    </tr>\n",
       "    <tr>\n",
       "      <th>ENSMUSG00000064341</th>\n",
       "      <td>mt-Nd1</td>\n",
       "      <td>54789</td>\n",
       "    </tr>\n",
       "    <tr>\n",
       "      <th>ENSMUSG00000064345</th>\n",
       "      <td>mt-Nd2</td>\n",
       "      <td>47966</td>\n",
       "    </tr>\n",
       "    <tr>\n",
       "      <th>ENSMUSG00000064351</th>\n",
       "      <td>mt-Co1</td>\n",
       "      <td>55222</td>\n",
       "    </tr>\n",
       "    <tr>\n",
       "      <th>ENSMUSG00000064354</th>\n",
       "      <td>mt-Co2</td>\n",
       "      <td>51263</td>\n",
       "    </tr>\n",
       "    <tr>\n",
       "      <th>ENSMUSG00000064356</th>\n",
       "      <td>mt-Atp8</td>\n",
       "      <td>24102</td>\n",
       "    </tr>\n",
       "    <tr>\n",
       "      <th>ENSMUSG00000064357</th>\n",
       "      <td>mt-Atp6</td>\n",
       "      <td>56466</td>\n",
       "    </tr>\n",
       "    <tr>\n",
       "      <th>ENSMUSG00000064358</th>\n",
       "      <td>mt-Co3</td>\n",
       "      <td>57653</td>\n",
       "    </tr>\n",
       "    <tr>\n",
       "      <th>ENSMUSG00000064360</th>\n",
       "      <td>mt-Nd3</td>\n",
       "      <td>35612</td>\n",
       "    </tr>\n",
       "    <tr>\n",
       "      <th>ENSMUSG00000065947</th>\n",
       "      <td>mt-Nd4l</td>\n",
       "      <td>27131</td>\n",
       "    </tr>\n",
       "    <tr>\n",
       "      <th>ENSMUSG00000064363</th>\n",
       "      <td>mt-Nd4</td>\n",
       "      <td>53163</td>\n",
       "    </tr>\n",
       "    <tr>\n",
       "      <th>ENSMUSG00000064367</th>\n",
       "      <td>mt-Nd5</td>\n",
       "      <td>37236</td>\n",
       "    </tr>\n",
       "    <tr>\n",
       "      <th>ENSMUSG00000064368</th>\n",
       "      <td>mt-Nd6</td>\n",
       "      <td>7314</td>\n",
       "    </tr>\n",
       "    <tr>\n",
       "      <th>ENSMUSG00000064370</th>\n",
       "      <td>mt-Cytb</td>\n",
       "      <td>56021</td>\n",
       "    </tr>\n",
       "    <tr>\n",
       "      <th>ENSMUSG00000051412</th>\n",
       "      <td>Vamp7</td>\n",
       "      <td>16135</td>\n",
       "    </tr>\n",
       "    <tr>\n",
       "      <th>ENSMUSG00000061654</th>\n",
       "      <td>Spry3</td>\n",
       "      <td>4</td>\n",
       "    </tr>\n",
       "    <tr>\n",
       "      <th>ENSMUSG00000079834</th>\n",
       "      <td>Tmlhe</td>\n",
       "      <td>501</td>\n",
       "    </tr>\n",
       "    <tr>\n",
       "      <th>ENSMUSG00000079190</th>\n",
       "      <td>AC133103.1</td>\n",
       "      <td>7</td>\n",
       "    </tr>\n",
       "    <tr>\n",
       "      <th>ENSMUSG00000062783</th>\n",
       "      <td>Csprs</td>\n",
       "      <td>68</td>\n",
       "    </tr>\n",
       "    <tr>\n",
       "      <th>ENSMUSG00000079800</th>\n",
       "      <td>AC125149.3</td>\n",
       "      <td>47</td>\n",
       "    </tr>\n",
       "    <tr>\n",
       "      <th>ENSMUSG00000094915</th>\n",
       "      <td>AC168977.2</td>\n",
       "      <td>24</td>\n",
       "    </tr>\n",
       "    <tr>\n",
       "      <th>ENSMUSG00000079808</th>\n",
       "      <td>AC168977.1</td>\n",
       "      <td>172</td>\n",
       "    </tr>\n",
       "    <tr>\n",
       "      <th>ENSMUSG00000095041</th>\n",
       "      <td>PISD</td>\n",
       "      <td>19619</td>\n",
       "    </tr>\n",
       "    <tr>\n",
       "      <th>ENSMUSG00000063897</th>\n",
       "      <td>DHRSX</td>\n",
       "      <td>8111</td>\n",
       "    </tr>\n",
       "    <tr>\n",
       "      <th>ENSMUSG00000095742</th>\n",
       "      <td>CAAA01147332.1</td>\n",
       "      <td>587</td>\n",
       "    </tr>\n",
       "  </tbody>\n",
       "</table>\n",
       "<p>19637 rows × 2 columns</p>\n",
       "</div>"
      ],
      "text/plain": [
       "                   gene_short_name-0  n_cells\n",
       "gene_id                                      \n",
       "ENSMUSG00000025902             Sox17     1034\n",
       "ENSMUSG00000033845            Mrpl15    20731\n",
       "ENSMUSG00000025903            Lypla1    14424\n",
       "ENSMUSG00000104217           Gm37988       49\n",
       "ENSMUSG00000033813             Tcea1    22778\n",
       "ENSMUSG00000002459             Rgs20     3649\n",
       "ENSMUSG00000085623           Gm16041        9\n",
       "ENSMUSG00000033793           Atp6v1h    13020\n",
       "ENSMUSG00000025907            Rb1cc1    15915\n",
       "ENSMUSG00000090031     4732440D04Rik     2530\n",
       "ENSMUSG00000087247           Fam150a        3\n",
       "ENSMUSG00000033740              St18       39\n",
       "ENSMUSG00000051285            Pcmtd1    18645\n",
       "ENSMUSG00000097797           Gm26901      354\n",
       "ENSMUSG00000103067           Gm30414        3\n",
       "ENSMUSG00000061024              Rrs1    11873\n",
       "ENSMUSG00000025911            Adhfe1      469\n",
       "ENSMUSG00000025912             Mybl1     1465\n",
       "ENSMUSG00000045210            Vcpip1     9797\n",
       "ENSMUSG00000097893     1700034P13Rik      159\n",
       "ENSMUSG00000025915              Sgk3     7606\n",
       "ENSMUSG00000046101            Mcmdc2      804\n",
       "ENSMUSG00000098234             Snhg6    18118\n",
       "ENSMUSG00000099032             Tcf24      167\n",
       "ENSMUSG00000025916           Ppp1r42       21\n",
       "ENSMUSG00000025917             Cops5    20533\n",
       "ENSMUSG00000056763             Cspp1    11649\n",
       "ENSMUSG00000067851           Arfgef1    15303\n",
       "ENSMUSG00000042501              Cpa6       18\n",
       "ENSMUSG00000048960             Prex2     1476\n",
       "...                              ...      ...\n",
       "ENSMUSG00000063698             Sfxn4      862\n",
       "ENSMUSG00000024997             Prdx3    20970\n",
       "ENSMUSG00000003228              Grk5     2230\n",
       "ENSMUSG00000074733            Zfp950     5063\n",
       "ENSMUSG00000094649            Gm7102       19\n",
       "ENSMUSG00000059326            Csf2ra    10789\n",
       "ENSMUSG00000064341            mt-Nd1    54789\n",
       "ENSMUSG00000064345            mt-Nd2    47966\n",
       "ENSMUSG00000064351            mt-Co1    55222\n",
       "ENSMUSG00000064354            mt-Co2    51263\n",
       "ENSMUSG00000064356           mt-Atp8    24102\n",
       "ENSMUSG00000064357           mt-Atp6    56466\n",
       "ENSMUSG00000064358            mt-Co3    57653\n",
       "ENSMUSG00000064360            mt-Nd3    35612\n",
       "ENSMUSG00000065947           mt-Nd4l    27131\n",
       "ENSMUSG00000064363            mt-Nd4    53163\n",
       "ENSMUSG00000064367            mt-Nd5    37236\n",
       "ENSMUSG00000064368            mt-Nd6     7314\n",
       "ENSMUSG00000064370           mt-Cytb    56021\n",
       "ENSMUSG00000051412             Vamp7    16135\n",
       "ENSMUSG00000061654             Spry3        4\n",
       "ENSMUSG00000079834             Tmlhe      501\n",
       "ENSMUSG00000079190        AC133103.1        7\n",
       "ENSMUSG00000062783             Csprs       68\n",
       "ENSMUSG00000079800        AC125149.3       47\n",
       "ENSMUSG00000094915        AC168977.2       24\n",
       "ENSMUSG00000079808        AC168977.1      172\n",
       "ENSMUSG00000095041              PISD    19619\n",
       "ENSMUSG00000063897             DHRSX     8111\n",
       "ENSMUSG00000095742    CAAA01147332.1      587\n",
       "\n",
       "[19637 rows x 2 columns]"
      ]
     },
     "execution_count": 17,
     "metadata": {},
     "output_type": "execute_result"
    }
   ],
   "source": [
    "adata.var"
   ]
  },
  {
   "cell_type": "code",
   "execution_count": 19,
   "metadata": {},
   "outputs": [],
   "source": [
    "#save filtered barcodes\n",
    "with open('filtered_barcodes.txt', 'w') as f:\n",
    "    for item in adata.obs.index.values:\n",
    "        f.write(\"%s\\n\" % item)\n",
    "#save filtered genes\n",
    "with open('filtered_genes_IDs.txt', 'w') as f:\n",
    "    for item in adata.var.index.values:\n",
    "        f.write(\"%s\\n\" % item)\n",
    "        \n",
    "with open('filtered_genes_short_name.txt', 'w') as f:\n",
    "    for item in adata.var[\"gene_short_name-0\"]:\n",
    "        f.write(\"%s\\n\" % item)       "
   ]
  },
  {
   "cell_type": "code",
   "execution_count": 20,
   "metadata": {},
   "outputs": [
    {
     "name": "stderr",
     "output_type": "stream",
     "text": [
      "/opt/conda/envs/Fertig_Python_3_7/lib/python3.7/site-packages/anndata/_io/h5ad.py:60: FutureWarning: The `force_dense` argument is deprecated. Use `as_dense` instead.\n",
      "  FutureWarning,\n"
     ]
    }
   ],
   "source": [
    "adata.write(\"aggr&pilot_filtered.h5ad\", compression='gzip', compression_opts=1, force_dense=False)"
   ]
  },
  {
   "cell_type": "code",
   "execution_count": null,
   "metadata": {},
   "outputs": [],
   "source": []
  }
 ],
 "metadata": {
  "kernelspec": {
   "display_name": "Python 3 (ipykernel)",
   "language": "python",
   "name": "python3"
  },
  "language_info": {
   "codemirror_mode": {
    "name": "ipython",
    "version": 3
   },
   "file_extension": ".py",
   "mimetype": "text/x-python",
   "name": "python",
   "nbconvert_exporter": "python",
   "pygments_lexer": "ipython3",
   "version": "3.8.10"
  }
 },
 "nbformat": 4,
 "nbformat_minor": 4
}
